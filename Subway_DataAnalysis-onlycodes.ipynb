{
 "cells": [
  {
   "cell_type": "markdown",
   "id": "06f3876c",
   "metadata": {},
   "source": [
    "<br>**'Subway_DataAnalysis.ipynb' (코드들 원본)의 데이터 정제와 진행을 위한 확인 과정 중 <br> 데이터들의 양이 많아 print의 출력값들 또한 많아져 깃허브 내 코드 확인에 어려움이 있기에 <br> 빠른 코드 확인을 위해 몇몇 부분을 제거한 사본이다. <br>`(print를 이용한 전체 데이터들의 확인과정(총 2번)과` <br>\n",
    "`(파이차트로 시각화하기 부분의) 모든 역들에 대한 파이차트 출력 총 3가지 과정은 제거하였다.) `<br>**"
   ]
  },
  {
   "cell_type": "markdown",
   "id": "99aae615",
   "metadata": {},
   "source": [
    "## 교통 데이터 분석을 통한 지하철 이용 현황 파악"
   ]
  },
  {
   "cell_type": "markdown",
   "id": "029ab477",
   "metadata": {},
   "source": [
    "대중교통 통계자료에서 내려받은 엑셀 파일(2023년 7월 수도권 대중교통 데이터- 교통카드 통계자료)에서의 **지하철 유무임별 이용현황의 데이터 정제**부터 시작하였다. 엑셀 내에서 필요없는 열(작업일시)열은 지운 후 '찾기 및 바꾸기'를 통해 콤마를 지우고, 이를 CSV 파일로 저장하여 데이터를 읽어낸다. 데이터를 확인하였을 때, 숫자에 '  ' 가 있으므로 (문자열로 처리되었다는 소리이다) 이후 데이터 처리를 위해 헤더데이터를 next() 함수로 제외하고 4번열부터 7번열까지의 데이터를 정수로 바꿔준다 (int로 변환)."
   ]
  },
  {
   "cell_type": "code",
   "execution_count": 1,
   "id": "5b4dbc91",
   "metadata": {},
   "outputs": [],
   "source": [
    "import csv\n",
    "f = open('subwaydata.csv')\n",
    "data = csv.reader(f)\n",
    "header = next(data)        #'사용월'~'무임하차' header 데이터는 next 함수로 제외한다\n",
    "for row in data:\n",
    "    for i in range(4,8):\n",
    "        row[i] = int(row[i])      #각 열의 값을 정수로 바꾸어준다"
   ]
  },
  {
   "cell_type": "markdown",
   "id": "4e538664",
   "metadata": {},
   "source": [
    "<br>"
   ]
  },
  {
   "cell_type": "markdown",
   "id": "6e0eda54",
   "metadata": {},
   "source": [
    "### 유임 승차 비율이 가장 높은 역 알아보기"
   ]
  },
  {
   "cell_type": "code",
   "execution_count": 2,
   "id": "9eaa97cf",
   "metadata": {},
   "outputs": [
    {
     "name": "stdout",
     "output_type": "stream",
     "text": [
      "['Jul-23', '2호선', '209', '한양대', 230270, 244345, 12448, 12987] 94.87\n",
      "['Jul-23', '2호선', '239', '홍대입구', 2003380, 2163741, 95446, 92543] 95.45\n",
      "['Jul-23', '경부선', '1001', '서울역', 250210, 80319, 13389, 3090] 94.92\n",
      "['Jul-23', '6호선', '2632', '한강진', 268859, 323128, 16679, 16218] 94.16\n",
      "['Jul-23', '9호선', '4125', '신논현', 887740, 868353, 52223, 50009] 94.44\n",
      "['Jul-23', '공항철도 1호선', '4203', '홍대입구', 423137, 423247, 18692, 17583] 95.77\n",
      "['Jul-23', '공항철도 1호선', '4206', '마곡나루(서울식물원)', 260180, 249703, 14893, 15091] 94.59\n"
     ]
    }
   ],
   "source": [
    "import csv\n",
    "\n",
    "f= open('subwaydata.csv')\n",
    "data = csv.reader(f)\n",
    "next(data)\n",
    "\n",
    "mx=0\n",
    "rate=0\n",
    "mx_station = ''\n",
    "\n",
    "for row in data :\n",
    "    for i in range(4,8) :\n",
    "        row[i] = int(row[i])\n",
    "    if row[6] != 0 and (row[4]+row[6]) > 100000 :\n",
    "        rate = row[4] / (row[4]+row[6])       \n",
    "        if rate*100 > 94 :                          \n",
    "            mx = rate\n",
    "            print(row, round(rate*100,2))"
   ]
  },
  {
   "cell_type": "markdown",
   "id": "e61cb54d",
   "metadata": {},
   "source": [
    "유무임 승차 인원의 합이 10만명 이상인 경우 중 유임 승차 비율이 94%보다 큰 경우들에 대한 데이터들만을 추출하도록 하였다. 2023년 7월의 데이터이며, 순서대로 '호선명', '역ID', '지하철역명', '유임승차 인원', '유임하차자 인원', '무임승차자 인원', '무임하차 인원'을 확인할 수 있다."
   ]
  },
  {
   "cell_type": "code",
   "execution_count": 3,
   "id": "9d281474",
   "metadata": {},
   "outputs": [
    {
     "name": "stdout",
     "output_type": "stream",
     "text": [
      "홍대입구 공항철도 1호선 95.77\n"
     ]
    }
   ],
   "source": [
    "import csv\n",
    "\n",
    "f= open('subwaydata.csv')\n",
    "data = csv.reader(f)\n",
    "next(data)\n",
    "\n",
    "mx=0\n",
    "rate=0\n",
    "mx_station = ''\n",
    "\n",
    "for row in data :\n",
    "    for i in range(4,8) :\n",
    "        row[i] = int(row[i])\n",
    "    if row[6] != 0 and (row[4]+row[6]) > 100000 :  # 무임승차인원이 0인 경우도 존재하기에 이를 제거하였다.\n",
    "        rate = row[4] / (row[4]+row[6])             # 유임 승차 비율은 유임승차인원을 (유임승차인원+무임승차인원)으로 나눈 값이다.\n",
    "        if rate > mx :                              #유임 승차 비율이 가장 최대일 때를 찾는 과정이다.\n",
    "            mx = rate\n",
    "            mx_station = row[3]+' ' +row[1]\n",
    "            \n",
    "print(mx_station ,round(mx*100,2))"
   ]
  },
  {
   "cell_type": "markdown",
   "id": "caf13946",
   "metadata": {},
   "source": [
    "위를 통해 2023년 7월의 (유무임 승차 인원의 합이 10만명 이상인 경우 중) 유임 승차 비율이 가장 높은 역이 '홍대입구역' 임을 알 수 있다."
   ]
  },
  {
   "cell_type": "markdown",
   "id": "03eab520",
   "metadata": {},
   "source": [
    "<br>"
   ]
  },
  {
   "cell_type": "markdown",
   "id": "076a5af0",
   "metadata": {},
   "source": [
    "### 유무임 승하차 인원이 가장 많은 역 알아보기"
   ]
  },
  {
   "cell_type": "code",
   "execution_count": 4,
   "id": "b2e2dd7e",
   "metadata": {},
   "outputs": [
    {
     "name": "stdout",
     "output_type": "stream",
     "text": [
      "유임승차 : 강남 2호선 2254653\n",
      "유임하차 : 강남 2호선 2183636\n",
      "무임승차 : 종로3가 1호선 282721\n",
      "무임하차 : 영등포 경부선 278294\n"
     ]
    }
   ],
   "source": [
    "import csv\n",
    "\n",
    "f = open('subwaydata.csv')\n",
    "data = csv.reader(f)\n",
    "next(data)\n",
    "mx = [0] * 4\n",
    "mx_station = [''] *4\n",
    "label = ['유임승차','유임하차','무임승차','무임하차']\n",
    "for row in data :\n",
    "    for i in range(4,8) :\n",
    "        row[i] = int(row[i])\n",
    "        if row[i] > mx[i-4] :\n",
    "            mx[i-4] = row[i]\n",
    "            mx_station[i-4] = row[3] + ' ' + row[1]\n",
    "for i in range(4) :\n",
    "    print(label[i]+' : '+mx_station[i],mx[i])        "
   ]
  },
  {
   "cell_type": "markdown",
   "id": "3c734f55",
   "metadata": {},
   "source": [
    "<br>"
   ]
  },
  {
   "cell_type": "markdown",
   "id": "6664762f",
   "metadata": {},
   "source": [
    "### 각 역들의 유무임 승하차 비율 파이차트로 시각화하기\n",
    "**파이차트로 나타내기** <br> 유임 승차 비율이 가장 높은 역을 시각적으로 확인하기 위하여 파이차트로 나타낼 수 있다. 아래 코드를 통해 모든 역들에 대한 각각의 유임승차, 유임하차, 무임승차, 무임하차 인원들의 비율을 파이차트로 시각화하여 확인할 수 있다."
   ]
  },
  {
   "cell_type": "markdown",
   "id": "922af732",
   "metadata": {},
   "source": [
    "<br>"
   ]
  },
  {
   "cell_type": "markdown",
   "id": "e9afc98b",
   "metadata": {},
   "source": [
    "### [사용자 입력 코드] <br><br> 사용자 입력에 따른 역의 유임승차 비율 파이차트 출력\n",
    "원하는 열의 유뮤임승하차 비율을 확인하기 위하여 사용자 입력 함수와 함께 코드를 제작하였다. 알고자 하는 호선명을 우선 입력 후, 지하철역명을 입력하면 그에 따른 유뮤임승하차 비율의 파이차트를 제공 받을 수 있다."
   ]
  },
  {
   "cell_type": "code",
   "execution_count": 5,
   "id": "a63c5ae8",
   "metadata": {},
   "outputs": [
    {
     "name": "stdout",
     "output_type": "stream",
     "text": [
      "호선명을 입력하세요 (예.2호선): 2호선\n",
      "지하철역 이름을 입력하세요 (예.을지로4가): 을지로4가\n"
     ]
    },
    {
     "data": {
      "image/png": "[encoded data removed]",
      "text/plain": [
       "<Figure size 600x400 with 1 Axes>"
      ]
     },
     "metadata": {},
     "output_type": "display_data"
    }
   ],
   "source": [
    "import csv\n",
    "import matplotlib.pyplot as plt\n",
    "plt.rc('font', family='Malgun Gothic')\n",
    "\n",
    "\n",
    "with open('subwaydata.csv') as f:\n",
    "    data = csv.reader(f)\n",
    "    next(data)\n",
    "\n",
    "    line_name = input(\"호선명을 입력하세요 (예.2호선): \")\n",
    "    station_name = input(\"지하철역 이름을 입력하세요 (예.을지로4가): \")\n",
    "\n",
    "    found = False\n",
    "    for row in data:\n",
    "        if row[1] == line_name and row[3] == station_name:\n",
    "                label = ['유임승차', '유임하차', '무임승차', '무임하차']\n",
    "                values = [int(row[i]) for i in range(4, 8)]\n",
    "\n",
    "                plt.figure(dpi=100)\n",
    "                plt.title(row[3] + ' ' + row[1],size=15)\n",
    "                plt.pie(values, labels=label, autopct='%1.f%%',textprops={'fontsize': 8})\n",
    "                plt.axis('equal')\n",
    "                plt.show()\n",
    "                found = True\n",
    "                break\n",
    "\n",
    "    if not found:\n",
    "        print(\"입력하신 조건에 해당하는 데이터를 찾을 수 없습니다.\")"
   ]
  },
  {
   "cell_type": "markdown",
   "id": "76fa2b84",
   "metadata": {},
   "source": [
    "<br>"
   ]
  },
  {
   "cell_type": "markdown",
   "id": "90bdcf2f",
   "metadata": {},
   "source": [
    "위의 코드를 실행시키면 호선명과 지하철역명을 입력을 하는 빈칸이 제시되며, 입력 시 데이터를 파이차트 형태로 제공받을 수 있다. 아래는 '5호선' ,'종로3가' 에 대한 유뮤임승하차 비율의 파이차트 결과 예시이다."
   ]
  },
  {
   "attachments": {
    "%EC%98%88.PNG": {
     "image/png": "[encoded data removed]"
    }
   },
   "cell_type": "markdown",
   "id": "f457cc94",
   "metadata": {},
   "source": [
    "![%EC%98%88.PNG](attachment:%EC%98%88.PNG)"
   ]
  },
  {
   "cell_type": "markdown",
   "id": "fd4b53b8",
   "metadata": {},
   "source": [
    "<br><br>"
   ]
  },
  {
   "cell_type": "markdown",
   "id": "be33dae8",
   "metadata": {},
   "source": [
    "<br><br> **아래부터는 출근 시간대 사람들이 가장 많이 타고 내리는 역을 파악하기 위하여 지하철 시간대별 데이터 시각화를 진행하고자 한다.**"
   ]
  },
  {
   "cell_type": "markdown",
   "id": "f39808b0",
   "metadata": {},
   "source": [
    "### 지하철 시간대별 이용 현황 데이터 정제하기"
   ]
  },
  {
   "cell_type": "markdown",
   "id": "8d7d88e0",
   "metadata": {},
   "source": [
    "다음으로는 내려받은 엑셀 파일(2023년 7월 수도권 대중교통 데이터- 교통카드 통계자료)에서의 **지하철 시간대별 이용현황 데이터 정제**를 진행하였다. CSV 파일명은 'subwaytime2'이다. 앞서 진행하였던 정제와 방식은 동일하나, 아래의 데이터에서 확인 가능하듯 두번째 행의 '승차' '하차' 반복 데이터는 분석에 직접적인 영향을 주지는 않기에 `next함수를 두번 사용하여 헤더와 승차하차 두 줄의 데이터를 제외시킨다.` 그 다음, 문자로 인식되어 있는 숫자 데이터들을 모두 정수형으로 변환하여주었다."
   ]
  },
  {
   "cell_type": "code",
   "execution_count": 6,
   "id": "8e851e75",
   "metadata": {},
   "outputs": [
    {
     "name": "stdout",
     "output_type": "stream",
     "text": [
      "['Jul-23', '2호선', '204', '을지로4가', 319804, 322385, 76283, 73757]\n"
     ]
    }
   ],
   "source": [
    "import csv\n",
    "f = open('subwaytime2.csv')\n",
    "data = csv.reader(f)\n",
    "next(data)\n",
    "next(data)\n",
    "for i in range(4,8):\n",
    "    row[i] = int(row[i])\n",
    "print(row)"
   ]
  },
  {
   "cell_type": "markdown",
   "id": "65a65dd7",
   "metadata": {},
   "source": [
    "<br>"
   ]
  },
  {
   "cell_type": "markdown",
   "id": "4aa5a2ba",
   "metadata": {},
   "source": [
    "### 특정 출근 시간대의 승차 인원 막대그래프로 시각화하기\n",
    "특정 출근 시간대에 사람들이 지하철역에 가장 많이 들어오고 나가는 데이터를 알아보고자 한다. 위의 데이터들에서 알 수 있듯, 데이터의 row[10]은 시간상 오전 8시를 의미하며, 시간대는 24시를 기준으로 제시되어있다. 특정 시간대에 역들에 대한 데이터를 정수형태로 저장 후 이를 직관적으로 확인할 수 있도록 막대그래프로 다시 시각화하였다."
   ]
  },
  {
   "cell_type": "code",
   "execution_count": 7,
   "id": "c76e8af5",
   "metadata": {},
   "outputs": [],
   "source": [
    "import csv\n",
    "f=open('subwaytime2.csv')\n",
    "data = csv.reader(f)\n",
    "next(data)\n",
    "next(data)\n",
    "result=[]\n",
    "for row in data:\n",
    "    row[4:]=map(int,row[4:])   #map 함수를 사용하여 데이터를 한꺼번에 정수형으로 바꿀 수 있다.\n",
    "    result.append(row[10])"
   ]
  },
  {
   "cell_type": "markdown",
   "id": "0287d755",
   "metadata": {},
   "source": [
    "<br>"
   ]
  },
  {
   "cell_type": "code",
   "execution_count": 8,
   "id": "661931e8",
   "metadata": {},
   "outputs": [
    {
     "data": {
      "image/png": "[encoded data removed]",
      "text/plain": [
       "<Figure size 432x288 with 1 Axes>"
      ]
     },
     "metadata": {
      "needs_background": "light"
     },
     "output_type": "display_data"
    }
   ],
   "source": [
    "import matplotlib.pyplot as plt\n",
    "plt.bar(range(len(result)),result,color='green')\n",
    "plt.show()"
   ]
  },
  {
   "cell_type": "markdown",
   "id": "631cf3d8",
   "metadata": {},
   "source": [
    "위 막대그래프들의 결과 데이터의 편차가 매우 크기에, sort 정렬을 실행하여 특정 역들의 사용량이 매우 큼을 확인할 수 있다."
   ]
  },
  {
   "cell_type": "code",
   "execution_count": 9,
   "id": "6375edf0",
   "metadata": {},
   "outputs": [
    {
     "data": {
      "image/png": "[encoded data removed]",
      "text/plain": [
       "<Figure size 432x288 with 1 Axes>"
      ]
     },
     "metadata": {
      "needs_background": "light"
     },
     "output_type": "display_data"
    }
   ],
   "source": [
    "import matplotlib.pyplot as plt\n",
    "result.sort()\n",
    "plt.bar(range(len(result)),result,color='green')\n",
    "plt.show()"
   ]
  },
  {
   "cell_type": "markdown",
   "id": "ae4df370",
   "metadata": {},
   "source": [
    "<br><br>\n",
    "### 출근/퇴근 시간대에서의 승차 인원 확인하기\n",
    "위에서는 오전 8시~8시 59분이라는 특정 시간대에서의 승차 인원을 확인하였다면, 목표로 하여 알고자하는 조금 더 긴 시간대 (출근시간대)에서의 승차 인원을 확인해보고자 한다. 출근 시간대의 승차 인원들을 합치는 방법을 사용할 수 있다.<br> **`주 출근 시간대인 7시부터 9시까지의 승차 인원들`을 확인한다.** "
   ]
  },
  {
   "cell_type": "code",
   "execution_count": 10,
   "id": "05ba7bb6",
   "metadata": {},
   "outputs": [
    {
     "name": "stdout",
     "output_type": "stream",
     "text": [
      "신림(2호선) 623384\n"
     ]
    }
   ],
   "source": [
    "import csv\n",
    "\n",
    "f = open('subwaytime2.csv')\n",
    "data = csv.reader(f)\n",
    "next(data)\n",
    "next(data)\n",
    "mx =0\n",
    "mx_station =''\n",
    "for row in data:\n",
    "    row[4:]=map(int,row[4:])\n",
    "    if sum(row[10:15:2]) > mx :       #row[10]에서 rowp[15]까지이며, 승차 인원을 확인하고자 하기에 하차를 건너뛰기 위해 간격을 둔다\n",
    "        mx = sum(row[10:15:2])\n",
    "        mx_station = row[3] +'('+row[1]+')'\n",
    "print(mx_station, mx)"
   ]
  },
  {
   "cell_type": "markdown",
   "id": "4b514aed",
   "metadata": {},
   "source": [
    "<br> **이번에는 `주 퇴근 시간대인 오후 6시부터 8시까지의 승차 인원들`**을 확인한다."
   ]
  },
  {
   "cell_type": "code",
   "execution_count": 11,
   "id": "a9240bfd",
   "metadata": {},
   "outputs": [
    {
     "name": "stdout",
     "output_type": "stream",
     "text": [
      "강남(2호선) 980063\n"
     ]
    }
   ],
   "source": [
    "import csv\n",
    "\n",
    "f = open('subwaytime2.csv')\n",
    "data = csv.reader(f)\n",
    "next(data)\n",
    "next(data)\n",
    "mx =0\n",
    "mx_station =''\n",
    "for row in data:\n",
    "    row[4:]=map(int,row[4:])\n",
    "    if sum(row[28:36:2]) > mx :\n",
    "        mx = sum(row[28:36:2])\n",
    "        mx_station = row[3] +'('+row[1]+')'\n",
    "print(mx_station, mx)"
   ]
  },
  {
   "cell_type": "markdown",
   "id": "bf1ae003",
   "metadata": {},
   "source": [
    "2023년 7월의 데이터 결과, 주 출근 시간대에는 신림역, 주 퇴근 시간대에는 강남역에 승차 인원이 가장 많다는 것을 확인할 수 있다. 주 퇴근 시간대인 강남역에 승차 인원들이 많음을 통해 직장이 밀집된 지역임에 따른 결과라 추가적으로 예측할 수도 있다. <br><br>"
   ]
  },
  {
   "cell_type": "markdown",
   "id": "8ad3da07",
   "metadata": {},
   "source": [
    "### [사용자 입력 코드]<br><br>사용자가 알고자 하는 특정 시간대에 사람들이 가장 많이 타는 역은 어디인가"
   ]
  },
  {
   "cell_type": "code",
   "execution_count": 12,
   "id": "c79120b1",
   "metadata": {},
   "outputs": [
    {
     "name": "stdout",
     "output_type": "stream",
     "text": [
      "승차인원이 가장 많은 역이 궁금한 시간대를 입력해주세요(24시 기준) : 17\n",
      "강남(2호선) 261680\n"
     ]
    }
   ],
   "source": [
    "import csv\n",
    "f=open('subwaytime2.csv')\n",
    "data=csv.reader(f)\n",
    "next(data)\n",
    "next(data)\n",
    "mx=0\n",
    "mx_station=''\n",
    "t=int(input('승차인원이 가장 많은 역이 궁금한 시간대를 입력해주세요(24시 기준) : '))\n",
    "\n",
    "for row in data :\n",
    "    row[4:] = map(int,row[4:])\n",
    "    a=row[4+(t-4)*2]\n",
    "    if a >mx :\n",
    "        mx=a\n",
    "        mx_station = row[3]+'('+row[1]+')'\n",
    "print(mx_station, mx)"
   ]
  },
  {
   "cell_type": "markdown",
   "id": "9c8ec001",
   "metadata": {},
   "source": [
    "위의 코드를 통해 승차 인원이 가장 많은 역을 알고자 하는 사용자가 직접 입력을 통해 결과를 제공받을 수 있다. 코드 실행 시 아래와 같이 보인다."
   ]
  },
  {
   "attachments": {
    "%EC%98%88%EC%8B%9C2.PNG": {
     "image/png": "[encoded data removed]"
    }
   },
   "cell_type": "markdown",
   "id": "a6673c24",
   "metadata": {},
   "source": [
    "![%EC%98%88%EC%8B%9C2.PNG](attachment:%EC%98%88%EC%8B%9C2.PNG)"
   ]
  },
  {
   "cell_type": "markdown",
   "id": "2dabe87e",
   "metadata": {},
   "source": [
    "<br><br>"
   ]
  },
  {
   "cell_type": "markdown",
   "id": "180ba6db",
   "metadata": {},
   "source": [
    "### 시간대별 지하철 승하차 인원 추이 시각화하기"
   ]
  },
  {
   "cell_type": "code",
   "execution_count": 13,
   "id": "107c8a62",
   "metadata": {},
   "outputs": [
    {
     "data": {
      "image/png": "[encoded data removed]",
      "text/plain": [
       "<Figure size 576x360 with 1 Axes>"
      ]
     },
     "metadata": {
      "needs_background": "light"
     },
     "output_type": "display_data"
    }
   ],
   "source": [
    "import csv\n",
    "import matplotlib.pyplot as plt\n",
    "\n",
    "f=open('subwaytime2.csv')\n",
    "data=csv.reader(f)\n",
    "next(data)\n",
    "next(data)\n",
    "\n",
    "sb_on = [0]*24\n",
    "sb_off = [0]*24\n",
    "\n",
    "for row in data :\n",
    "    row[4:] = map(int,row[4:])\n",
    "    for i in range(24) :\n",
    "        sb_on[i] += row[4+i*2]\n",
    "        sb_off[i] += row[5+i*2]\n",
    "        \n",
    "plt.rc('font', family='Malgun Gothic')\n",
    "plt.figure(figsize=(8, 5))\n",
    "plt.title('지하철 시간대별 승하차 인원 추이')\n",
    "plt.xlabel(\"시간대 (24시 기준)\")\n",
    "plt.ylabel(\"인구 수\")\n",
    "plt.plot(sb_on, label='승차')\n",
    "plt.plot(sb_off, label='하차')\n",
    "plt.legend()\n",
    "plt.xticks(range(24),range(4,28))\n",
    "plt.show()"
   ]
  },
  {
   "cell_type": "markdown",
   "id": "54615e26",
   "metadata": {},
   "source": [
    "x축 위에 제시된 1e7은 인구 수가 x축에 제시된 숫자에 천만명을 더 곱한 인원수임을 의미한다. 그래프를 시각화하여 나타낸 결과, 출근시간대의 경우 오전 7~ 9시에 승차 인원이 많으며, 하차 인원은 8~ 9시에 많음을 볼 수 있다. 그리고 퇴근 시간대 승하차의 경우, 오후 6~8시에 가장 많이 일어남을 확인할 수 있다."
   ]
  },
  {
   "cell_type": "markdown",
   "id": "c1abb056",
   "metadata": {},
   "source": [
    "<br>"
   ]
  },
  {
   "cell_type": "markdown",
   "id": "cb1774e9",
   "metadata": {},
   "source": [
    "### 데이터 출처"
   ]
  },
  {
   "cell_type": "markdown",
   "id": "238b6b40",
   "metadata": {},
   "source": [
    "대중교통 데이터 출처 : (https://www.t-money.co.kr/)"
   ]
  }
 ],
 "metadata": {
  "kernelspec": {
   "display_name": "Python 3 (ipykernel)",
   "language": "python",
   "name": "python3"
  },
  "language_info": {
   "codemirror_mode": {
    "name": "ipython",
    "version": 3
   },
   "file_extension": ".py",
   "mimetype": "text/x-python",
   "name": "python",
   "nbconvert_exporter": "python",
   "pygments_lexer": "ipython3",
   "version": "3.9.7"
  }
 },
 "nbformat": 4,
 "nbformat_minor": 5
}
